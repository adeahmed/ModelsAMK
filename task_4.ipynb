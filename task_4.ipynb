{
 "cells": [
  {
   "cell_type": "markdown",
   "metadata": {},
   "source": [
    "## Business Understanding\n",
    "The objective of this project is to predict house prices based on various real estate attributes in the dataset. We'll approach this problem using both linear regression and logistic regression models.\n",
    "\n",
    "- Linear regression: Predict the continuous target variable \"Y house price of unit area.\"\n",
    "- Logistic regression: Convert the target variable to binary (above or below the average price) and build a binary classifier."
   ]
  },
  {
   "cell_type": "code",
   "execution_count": 11,
   "metadata": {},
   "outputs": [
    {
     "data": {
      "text/plain": [
       "{'uci_id': 477,\n",
       " 'name': 'Real Estate Valuation',\n",
       " 'repository_url': 'https://archive.ics.uci.edu/dataset/477/real+estate+valuation+data+set',\n",
       " 'data_url': 'https://archive.ics.uci.edu/static/public/477/data.csv',\n",
       " 'abstract': 'The real estate valuation is a regression problem. The market historical data set of real estate valuation are collected from Sindian Dist., New Taipei City, Taiwan. ',\n",
       " 'area': 'Business',\n",
       " 'tasks': ['Regression'],\n",
       " 'characteristics': ['Multivariate'],\n",
       " 'num_instances': 414,\n",
       " 'num_features': 6,\n",
       " 'feature_types': ['Integer', 'Real'],\n",
       " 'demographics': [],\n",
       " 'target_col': ['Y house price of unit area'],\n",
       " 'index_col': ['No'],\n",
       " 'has_missing_values': 'no',\n",
       " 'missing_values_symbol': None,\n",
       " 'year_of_dataset_creation': 2018,\n",
       " 'last_updated': 'Mon Feb 26 2024',\n",
       " 'dataset_doi': '10.24432/C5J30W',\n",
       " 'creators': ['I-Cheng Yeh'],\n",
       " 'intro_paper': {'title': 'Building real estate valuation models with comparative approach through case-based reasoning',\n",
       "  'authors': 'I. Yeh, Tzu-Kuang Hsu',\n",
       "  'published_in': 'Applied Soft Computing',\n",
       "  'year': 2018,\n",
       "  'url': 'https://dl.acm.org/doi/abs/10.1016/j.asoc.2018.01.029',\n",
       "  'doi': None},\n",
       " 'additional_info': {'summary': 'The market historical data set of real estate valuation are collected from Sindian Dist., New Taipei City, Taiwan. The â€œreal estate valuationâ€\\x9d is a regression problem. The data set was randomly split into the training data set (2/3 samples) and the testing data set (1/3 samples).',\n",
       "  'purpose': None,\n",
       "  'funded_by': None,\n",
       "  'instances_represent': None,\n",
       "  'recommended_data_splits': None,\n",
       "  'sensitive_data': None,\n",
       "  'preprocessing_description': None,\n",
       "  'variable_info': 'The inputs are as follows\\r\\nX1=the transaction date (for example, 2013.250=2013 March, 2013.500=2013 June, etc.)\\r\\nX2=the house age (unit: year)\\r\\nX3=the distance to the nearest MRT station (unit: meter)\\r\\nX4=the number of convenience stores in the living circle on foot (integer)\\r\\nX5=the geographic coordinate, latitude. (unit: degree)\\r\\nX6=the geographic coordinate, longitude. (unit: degree)\\r\\n\\r\\nThe output is as follow\\r\\nY= house price of unit area (10000 New Taiwan Dollar/Ping, where Ping is a local unit, 1 Ping = 3.3 meter squared)\\r\\n',\n",
       "  'citation': None}}"
      ]
     },
     "execution_count": 11,
     "metadata": {},
     "output_type": "execute_result"
    }
   ],
   "source": [
    "from ucimlrepo import fetch_ucirepo \n",
    "  \n",
    "# fetch dataset \n",
    "real_estate_valuation = fetch_ucirepo(id=477) \n",
    "  \n",
    "# data (as pandas dataframes) \n",
    "X = real_estate_valuation.data.features \n",
    "y = real_estate_valuation.data.targets \n",
    "  \n",
    "# metadata \n",
    "real_estate_valuation.metadata\n",
    "  \n",
    "\n",
    "\n"
   ]
  },
  {
   "cell_type": "code",
   "execution_count": 23,
   "metadata": {},
   "outputs": [
    {
     "name": "stdout",
     "output_type": "stream",
     "text": [
      "The inputs are as follows\n",
      "X1=the transaction date (for example, 2013.250=2013 March, 2013.500=2013 June, etc.)\n",
      "X2=the house age (unit: year)\n",
      "X3=the distance to the nearest MRT station (unit: meter)\n",
      "X4=the number of convenience stores in the living circle on foot (integer)\n",
      "X5=the geographic coordinate, latitude. (unit: degree)\n",
      "X6=the geographic coordinate, longitude. (unit: degree)\n",
      "\n",
      "The output is as follow\n",
      "Y= house price of unit area (10000 New Taiwan Dollar/Ping, where Ping is a local unit, 1 Ping = 3.3 meter squared)\n",
      "\n"
     ]
    }
   ],
   "source": [
    "print(real_estate_valuation.metadata.additional_info.variable_info)"
   ]
  },
  {
   "cell_type": "markdown",
   "metadata": {},
   "source": [
    "## Data Understanding\n",
    "The dataset contains multiple features including X1 transaction date, X2 house age, X3 distance to the nearest MRT station, X4 number of convenience stores, and X5 latitude/longitude.\n",
    "\n",
    "A heatmap has been drawn to explore the correlations between features."
   ]
  },
  {
   "cell_type": "code",
   "execution_count": 27,
   "metadata": {},
   "outputs": [
    {
     "data": {
      "text/html": [
       "<div>\n",
       "<style scoped>\n",
       "    .dataframe tbody tr th:only-of-type {\n",
       "        vertical-align: middle;\n",
       "    }\n",
       "\n",
       "    .dataframe tbody tr th {\n",
       "        vertical-align: top;\n",
       "    }\n",
       "\n",
       "    .dataframe thead th {\n",
       "        text-align: right;\n",
       "    }\n",
       "</style>\n",
       "<table border=\"1\" class=\"dataframe\">\n",
       "  <thead>\n",
       "    <tr style=\"text-align: right;\">\n",
       "      <th></th>\n",
       "      <th>Y house price of unit area</th>\n",
       "    </tr>\n",
       "  </thead>\n",
       "  <tbody>\n",
       "    <tr>\n",
       "      <th>0</th>\n",
       "      <td>37.9</td>\n",
       "    </tr>\n",
       "    <tr>\n",
       "      <th>1</th>\n",
       "      <td>42.2</td>\n",
       "    </tr>\n",
       "    <tr>\n",
       "      <th>2</th>\n",
       "      <td>47.3</td>\n",
       "    </tr>\n",
       "    <tr>\n",
       "      <th>3</th>\n",
       "      <td>54.8</td>\n",
       "    </tr>\n",
       "    <tr>\n",
       "      <th>4</th>\n",
       "      <td>43.1</td>\n",
       "    </tr>\n",
       "    <tr>\n",
       "      <th>...</th>\n",
       "      <td>...</td>\n",
       "    </tr>\n",
       "    <tr>\n",
       "      <th>409</th>\n",
       "      <td>15.4</td>\n",
       "    </tr>\n",
       "    <tr>\n",
       "      <th>410</th>\n",
       "      <td>50.0</td>\n",
       "    </tr>\n",
       "    <tr>\n",
       "      <th>411</th>\n",
       "      <td>40.6</td>\n",
       "    </tr>\n",
       "    <tr>\n",
       "      <th>412</th>\n",
       "      <td>52.5</td>\n",
       "    </tr>\n",
       "    <tr>\n",
       "      <th>413</th>\n",
       "      <td>63.9</td>\n",
       "    </tr>\n",
       "  </tbody>\n",
       "</table>\n",
       "<p>414 rows × 1 columns</p>\n",
       "</div>"
      ],
      "text/plain": [
       "     Y house price of unit area\n",
       "0                          37.9\n",
       "1                          42.2\n",
       "2                          47.3\n",
       "3                          54.8\n",
       "4                          43.1\n",
       "..                          ...\n",
       "409                        15.4\n",
       "410                        50.0\n",
       "411                        40.6\n",
       "412                        52.5\n",
       "413                        63.9\n",
       "\n",
       "[414 rows x 1 columns]"
      ]
     },
     "execution_count": 27,
     "metadata": {},
     "output_type": "execute_result"
    }
   ],
   "source": [
    "y "
   ]
  },
  {
   "cell_type": "code",
   "execution_count": 24,
   "metadata": {},
   "outputs": [],
   "source": [
    "from sklearn.model_selection import train_test_split\n",
    "from sklearn.preprocessing import StandardScaler\n",
    "\n",
    "# Separate features and target\n",
    "\n",
    "\n",
    "# Split for linear regression\n",
    "X_train, X_test, y_train, y_test = train_test_split(X, y, test_size=0.3, random_state=42)\n",
    "\n",
    "# Standardize the data\n",
    "scaler = StandardScaler()\n",
    "X_train_scaled = scaler.fit_transform(X_train)\n",
    "X_test_scaled = scaler.transform(X_test)\n",
    "\n",
    "# Binarize target for logistic regression\n",
    "y_binary = (y > y.mean()).astype(int)\n",
    "X_train_bin, X_test_bin, y_train_bin, y_test_bin = train_test_split(X, y_binary, test_size=0.3, random_state=42)"
   ]
  },
  {
   "cell_type": "code",
   "execution_count": 25,
   "metadata": {},
   "outputs": [
    {
     "name": "stderr",
     "output_type": "stream",
     "text": [
      "/opt/anaconda3/lib/python3.12/site-packages/sklearn/utils/validation.py:1300: DataConversionWarning: A column-vector y was passed when a 1d array was expected. Please change the shape of y to (n_samples, ), for example using ravel().\n",
      "  y = column_or_1d(y, warn=True)\n"
     ]
    }
   ],
   "source": [
    "from sklearn.linear_model import LinearRegression, LogisticRegression\n",
    "from sklearn.metrics import mean_squared_error, accuracy_score\n",
    "\n",
    "# Linear regression\n",
    "lin_reg = LinearRegression()\n",
    "lin_reg.fit(X_train_scaled, y_train)\n",
    "y_pred_lin = lin_reg.predict(X_test_scaled)\n",
    "\n",
    "# Logistic regression\n",
    "log_reg = LogisticRegression()\n",
    "log_reg.fit(X_train_bin, y_train_bin)\n",
    "y_pred_log = log_reg.predict(X_test_bin)"
   ]
  },
  {
   "cell_type": "code",
   "execution_count": 26,
   "metadata": {},
   "outputs": [
    {
     "name": "stdout",
     "output_type": "stream",
     "text": [
      "Linear Regression MSE: 73.57\n",
      "Logistic Regression Accuracy: 0.78\n",
      "Linear Regression Coefficients: [[ 1.65121984 -2.76093494 -6.40443563  3.2054653   2.9892929  -0.78771855]]\n",
      "Logistic Regression Coefficients: [[ 0.00998541 -0.04500777 -0.00237362  0.1858874   0.26318069 -0.2014259 ]]\n"
     ]
    }
   ],
   "source": [
    "from sklearn.metrics import mean_squared_error, accuracy_score\n",
    "\n",
    "# Evaluation for linear regression\n",
    "mse = mean_squared_error(y_test, y_pred_lin)\n",
    "print(f\"Linear Regression MSE: {mse:.2f}\")\n",
    "\n",
    "# Evaluation for logistic regression\n",
    "accuracy = accuracy_score(y_test_bin, y_pred_log)\n",
    "print(f\"Logistic Regression Accuracy: {accuracy:.2f}\")\n",
    "\n",
    "# Feature importance (coefficients)\n",
    "print(\"Linear Regression Coefficients:\", lin_reg.coef_)\n",
    "print(\"Logistic Regression Coefficients:\", log_reg.coef_)"
   ]
  },
  {
   "cell_type": "markdown",
   "metadata": {},
   "source": [
    "## Evaluation\n",
    "- **Linear Regression**: The mean squared error (MSE) for the linear regression model is evaluated.\n",
    "- **Logistic Regression**: The binary classification accuracy is measured for the logistic regression model.\n",
    "\n",
    "Feature importance is determined by the coefficients from both models."
   ]
  },
  {
   "cell_type": "code",
   "execution_count": 28,
   "metadata": {},
   "outputs": [
    {
     "data": {
      "image/png": "[encoded data removed]",
      "text/plain": [
       "<Figure size 640x480 with 2 Axes>"
      ]
     },
     "metadata": {},
     "output_type": "display_data"
    }
   ],
   "source": [
    "from sklearn.metrics import confusion_matrix, ConfusionMatrixDisplay\n",
    "import matplotlib.pyplot as plt\n",
    "\n",
    "conf_matrix = confusion_matrix(y_test_bin, y_pred_log)\n",
    "disp = ConfusionMatrixDisplay(confusion_matrix=conf_matrix, display_labels=[\"Below Avg\", \"Above Avg\"])\n",
    "disp.plot(cmap=plt.cm.Blues) \n",
    "plt.show()"
   ]
  },
  {
   "cell_type": "code",
   "execution_count": null,
   "metadata": {},
   "outputs": [],
   "source": []
  },
  {
   "cell_type": "markdown",
   "metadata": {},
   "source": [
    "## Deployment\n",
    "- laitettu githubiin\n"
   ]
  },
  {
   "cell_type": "code",
   "execution_count": null,
   "metadata": {},
   "outputs": [],
   "source": []
  },
  {
   "cell_type": "code",
   "execution_count": null,
   "metadata": {},
   "outputs": [],
   "source": []
  },
  {
   "cell_type": "markdown",
   "metadata": {},
   "source": []
  },
  {
   "cell_type": "code",
   "execution_count": null,
   "metadata": {},
   "outputs": [],
   "source": []
  },
  {
   "cell_type": "code",
   "execution_count": null,
   "metadata": {},
   "outputs": [],
   "source": []
  }
 ],
 "metadata": {
  "kernelspec": {
   "display_name": "base",
   "language": "python",
   "name": "python3"
  },
  "language_info": {
   "codemirror_mode": {
    "name": "ipython",
    "version": 3
   },
   "file_extension": ".py",
   "mimetype": "text/x-python",
   "name": "python",
   "nbconvert_exporter": "python",
   "pygments_lexer": "ipython3",
   "version": "3.12.4"
  }
 },
 "nbformat": 4,
 "nbformat_minor": 2
}
